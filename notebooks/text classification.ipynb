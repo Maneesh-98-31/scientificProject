{
 "cells": [
  {
   "cell_type": "code",
   "execution_count": 9,
   "outputs": [
    {
     "name": "stdout",
     "output_type": "stream",
     "text": [
      "Requirement already satisfied: Scikit-learn in c:\\users\\ritik narayan\\.conda\\envs\\scientificproject\\lib\\site-packages (1.2.2)\n",
      "Requirement already satisfied: joblib>=1.1.1 in c:\\users\\ritik narayan\\.conda\\envs\\scientificproject\\lib\\site-packages (from Scikit-learn) (1.2.0)\n",
      "Requirement already satisfied: numpy>=1.17.3 in c:\\users\\ritik narayan\\.conda\\envs\\scientificproject\\lib\\site-packages (from Scikit-learn) (1.24.3)\n",
      "Requirement already satisfied: threadpoolctl>=2.0.0 in c:\\users\\ritik narayan\\.conda\\envs\\scientificproject\\lib\\site-packages (from Scikit-learn) (3.1.0)\n",
      "Requirement already satisfied: scipy>=1.3.2 in c:\\users\\ritik narayan\\.conda\\envs\\scientificproject\\lib\\site-packages (from Scikit-learn) (1.10.1)\n",
      "Requirement already satisfied: tensorflow in c:\\users\\ritik narayan\\.conda\\envs\\scientificproject\\lib\\site-packages (2.10.0)\n",
      "Requirement already satisfied: grpcio<2.0,>=1.24.3 in c:\\users\\ritik narayan\\.conda\\envs\\scientificproject\\lib\\site-packages (from tensorflow) (1.48.2)\n",
      "Requirement already satisfied: typing-extensions>=3.6.6 in c:\\users\\ritik narayan\\.conda\\envs\\scientificproject\\lib\\site-packages (from tensorflow) (4.5.0)\n",
      "Requirement already satisfied: opt-einsum>=2.3.2 in c:\\users\\ritik narayan\\.conda\\envs\\scientificproject\\lib\\site-packages (from tensorflow) (3.3.0)\n",
      "Requirement already satisfied: wrapt>=1.11.0 in c:\\users\\ritik narayan\\.conda\\envs\\scientificproject\\lib\\site-packages (from tensorflow) (1.14.1)\n",
      "Requirement already satisfied: tensorboard<2.11,>=2.10 in c:\\users\\ritik narayan\\.conda\\envs\\scientificproject\\lib\\site-packages (from tensorflow) (2.10.0)\n",
      "Collecting tensorflow-io-gcs-filesystem>=0.23.1\n",
      "  Downloading tensorflow_io_gcs_filesystem-0.31.0-cp310-cp310-win_amd64.whl (1.5 MB)\n",
      "     ---------------------------------------- 0.0/1.5 MB ? eta -:--:--\n",
      "     ---------------------------------------  1.5/1.5 MB 47.6 MB/s eta 0:00:01\n",
      "     ---------------------------------------- 1.5/1.5 MB 31.4 MB/s eta 0:00:00\n",
      "Requirement already satisfied: keras<2.11,>=2.10.0 in c:\\users\\ritik narayan\\.conda\\envs\\scientificproject\\lib\\site-packages (from tensorflow) (2.10.0)\n",
      "Collecting protobuf<3.20,>=3.9.2\n",
      "  Downloading protobuf-3.19.6-cp310-cp310-win_amd64.whl (895 kB)\n",
      "     ---------------------------------------- 0.0/895.7 kB ? eta -:--:--\n",
      "     ------------------------------------- 895.7/895.7 kB 59.0 MB/s eta 0:00:00\n",
      "Requirement already satisfied: six>=1.12.0 in c:\\users\\ritik narayan\\.conda\\envs\\scientificproject\\lib\\site-packages (from tensorflow) (1.16.0)\n",
      "Requirement already satisfied: numpy>=1.20 in c:\\users\\ritik narayan\\.conda\\envs\\scientificproject\\lib\\site-packages (from tensorflow) (1.24.3)\n",
      "Requirement already satisfied: setuptools in c:\\users\\ritik narayan\\.conda\\envs\\scientificproject\\lib\\site-packages (from tensorflow) (66.0.0)\n",
      "Requirement already satisfied: packaging in c:\\users\\ritik narayan\\.conda\\envs\\scientificproject\\lib\\site-packages (from tensorflow) (23.0)\n",
      "Collecting libclang>=13.0.0\n",
      "  Using cached libclang-16.0.0-py2.py3-none-win_amd64.whl (24.4 MB)\n",
      "Requirement already satisfied: tensorflow-estimator<2.11,>=2.10.0 in c:\\users\\ritik narayan\\.conda\\envs\\scientificproject\\lib\\site-packages (from tensorflow) (2.10.0)\n",
      "Requirement already satisfied: absl-py>=1.0.0 in c:\\users\\ritik narayan\\.conda\\envs\\scientificproject\\lib\\site-packages (from tensorflow) (1.3.0)\n",
      "Requirement already satisfied: termcolor>=1.1.0 in c:\\users\\ritik narayan\\.conda\\envs\\scientificproject\\lib\\site-packages (from tensorflow) (2.1.0)\n",
      "Requirement already satisfied: gast<=0.4.0,>=0.2.1 in c:\\users\\ritik narayan\\.conda\\envs\\scientificproject\\lib\\site-packages (from tensorflow) (0.4.0)\n",
      "Requirement already satisfied: keras-preprocessing>=1.1.1 in c:\\users\\ritik narayan\\.conda\\envs\\scientificproject\\lib\\site-packages (from tensorflow) (1.1.2)\n",
      "Requirement already satisfied: astunparse>=1.6.0 in c:\\users\\ritik narayan\\.conda\\envs\\scientificproject\\lib\\site-packages (from tensorflow) (1.6.3)\n",
      "Requirement already satisfied: google-pasta>=0.1.1 in c:\\users\\ritik narayan\\.conda\\envs\\scientificproject\\lib\\site-packages (from tensorflow) (0.2.0)\n",
      "Requirement already satisfied: h5py>=2.9.0 in c:\\users\\ritik narayan\\.conda\\envs\\scientificproject\\lib\\site-packages (from tensorflow) (3.7.0)\n",
      "Requirement already satisfied: flatbuffers>=2.0 in c:\\users\\ritik narayan\\.conda\\envs\\scientificproject\\lib\\site-packages (from tensorflow) (2.0)\n",
      "Requirement already satisfied: wheel<1.0,>=0.23.0 in c:\\users\\ritik narayan\\.conda\\envs\\scientificproject\\lib\\site-packages (from astunparse>=1.6.0->tensorflow) (0.38.4)\n",
      "Requirement already satisfied: requests<3,>=2.21.0 in c:\\users\\ritik narayan\\.conda\\envs\\scientificproject\\lib\\site-packages (from tensorboard<2.11,>=2.10->tensorflow) (2.29.0)\n",
      "Requirement already satisfied: markdown>=2.6.8 in c:\\users\\ritik narayan\\.conda\\envs\\scientificproject\\lib\\site-packages (from tensorboard<2.11,>=2.10->tensorflow) (3.4.1)\n",
      "Requirement already satisfied: google-auth-oauthlib<0.5,>=0.4.1 in c:\\users\\ritik narayan\\.conda\\envs\\scientificproject\\lib\\site-packages (from tensorboard<2.11,>=2.10->tensorflow) (0.4.4)\n",
      "Requirement already satisfied: werkzeug>=1.0.1 in c:\\users\\ritik narayan\\.conda\\envs\\scientificproject\\lib\\site-packages (from tensorboard<2.11,>=2.10->tensorflow) (2.2.3)\n",
      "Requirement already satisfied: tensorboard-plugin-wit>=1.6.0 in c:\\users\\ritik narayan\\.conda\\envs\\scientificproject\\lib\\site-packages (from tensorboard<2.11,>=2.10->tensorflow) (1.8.1)\n",
      "Requirement already satisfied: tensorboard-data-server<0.7.0,>=0.6.0 in c:\\users\\ritik narayan\\.conda\\envs\\scientificproject\\lib\\site-packages (from tensorboard<2.11,>=2.10->tensorflow) (0.6.1)\n",
      "Requirement already satisfied: google-auth<3,>=1.6.3 in c:\\users\\ritik narayan\\.conda\\envs\\scientificproject\\lib\\site-packages (from tensorboard<2.11,>=2.10->tensorflow) (2.6.0)\n",
      "Requirement already satisfied: cachetools<6.0,>=2.0.0 in c:\\users\\ritik narayan\\.conda\\envs\\scientificproject\\lib\\site-packages (from google-auth<3,>=1.6.3->tensorboard<2.11,>=2.10->tensorflow) (4.2.2)\n",
      "Requirement already satisfied: rsa<5,>=3.1.4 in c:\\users\\ritik narayan\\.conda\\envs\\scientificproject\\lib\\site-packages (from google-auth<3,>=1.6.3->tensorboard<2.11,>=2.10->tensorflow) (4.7.2)\n",
      "Requirement already satisfied: pyasn1-modules>=0.2.1 in c:\\users\\ritik narayan\\.conda\\envs\\scientificproject\\lib\\site-packages (from google-auth<3,>=1.6.3->tensorboard<2.11,>=2.10->tensorflow) (0.2.8)\n",
      "Requirement already satisfied: requests-oauthlib>=0.7.0 in c:\\users\\ritik narayan\\.conda\\envs\\scientificproject\\lib\\site-packages (from google-auth-oauthlib<0.5,>=0.4.1->tensorboard<2.11,>=2.10->tensorflow) (1.3.0)\n",
      "Requirement already satisfied: charset-normalizer<4,>=2 in c:\\users\\ritik narayan\\.conda\\envs\\scientificproject\\lib\\site-packages (from requests<3,>=2.21.0->tensorboard<2.11,>=2.10->tensorflow) (2.0.4)\n",
      "Requirement already satisfied: idna<4,>=2.5 in c:\\users\\ritik narayan\\.conda\\envs\\scientificproject\\lib\\site-packages (from requests<3,>=2.21.0->tensorboard<2.11,>=2.10->tensorflow) (3.4)\n",
      "Requirement already satisfied: certifi>=2017.4.17 in c:\\users\\ritik narayan\\.conda\\envs\\scientificproject\\lib\\site-packages (from requests<3,>=2.21.0->tensorboard<2.11,>=2.10->tensorflow) (2022.12.7)\n",
      "Requirement already satisfied: urllib3<1.27,>=1.21.1 in c:\\users\\ritik narayan\\.conda\\envs\\scientificproject\\lib\\site-packages (from requests<3,>=2.21.0->tensorboard<2.11,>=2.10->tensorflow) (1.26.15)\n",
      "Requirement already satisfied: MarkupSafe>=2.1.1 in c:\\users\\ritik narayan\\.conda\\envs\\scientificproject\\lib\\site-packages (from werkzeug>=1.0.1->tensorboard<2.11,>=2.10->tensorflow) (2.1.1)\n",
      "Requirement already satisfied: pyasn1<0.5.0,>=0.4.6 in c:\\users\\ritik narayan\\.conda\\envs\\scientificproject\\lib\\site-packages (from pyasn1-modules>=0.2.1->google-auth<3,>=1.6.3->tensorboard<2.11,>=2.10->tensorflow) (0.4.8)\n",
      "Requirement already satisfied: oauthlib>=3.0.0 in c:\\users\\ritik narayan\\.conda\\envs\\scientificproject\\lib\\site-packages (from requests-oauthlib>=0.7.0->google-auth-oauthlib<0.5,>=0.4.1->tensorboard<2.11,>=2.10->tensorflow) (3.2.2)\n",
      "Installing collected packages: libclang, tensorflow-io-gcs-filesystem, protobuf\n",
      "  Attempting uninstall: protobuf\n",
      "    Found existing installation: protobuf 3.20.3\n",
      "    Uninstalling protobuf-3.20.3:\n",
      "      Successfully uninstalled protobuf-3.20.3\n",
      "Successfully installed libclang-16.0.0 protobuf-3.19.6 tensorflow-io-gcs-filesystem-0.31.0\n"
     ]
    }
   ],
   "source": [
    "!pip install Scikit-learn\n",
    "!pip install tensorflow\n",
    "!pip install tensorflow-hub\n",
    "!pip install tensorflow-text"
   ],
   "metadata": {
    "collapsed": false,
    "ExecuteTime": {
     "end_time": "2023-05-02T01:57:46.186629100Z",
     "start_time": "2023-05-02T01:57:32.032134600Z"
    }
   }
  },
  {
   "cell_type": "code",
   "execution_count": 8,
   "outputs": [
    {
     "name": "stdout",
     "output_type": "stream",
     "text": [
      "['business', 'entertainment', 'politics', 'sport', 'tech']\n"
     ]
    },
    {
     "data": {
      "text/plain": "           flag                                           sentence\n0      business                Ad sales boost Time Warner profit\\n\n1      business  Quarterly profits at US media giant TimeWarner...\n2      business  The firm, which is now one of the biggest inve...\n3      business  Time Warner said on Friday that it now owns 8%...\n4      business  Time Warner's fourth quarter profits were slig...\n...         ...                                                ...\n12888      tech  I bought the US version of World of Warcraft w...\n12889      tech  Having played MMORPG games for some years I ag...\n12890      tech  Unless there is undeniable medical proof that ...\n12891      tech  These people are pathetic. They need to get of...\n12892      tech  24hours, when i was a kid at school and i was ...\n\n[12893 rows x 2 columns]",
      "text/html": "<div>\n<style scoped>\n    .dataframe tbody tr th:only-of-type {\n        vertical-align: middle;\n    }\n\n    .dataframe tbody tr th {\n        vertical-align: top;\n    }\n\n    .dataframe thead th {\n        text-align: right;\n    }\n</style>\n<table border=\"1\" class=\"dataframe\">\n  <thead>\n    <tr style=\"text-align: right;\">\n      <th></th>\n      <th>flag</th>\n      <th>sentence</th>\n    </tr>\n  </thead>\n  <tbody>\n    <tr>\n      <th>0</th>\n      <td>business</td>\n      <td>Ad sales boost Time Warner profit\\n</td>\n    </tr>\n    <tr>\n      <th>1</th>\n      <td>business</td>\n      <td>Quarterly profits at US media giant TimeWarner...</td>\n    </tr>\n    <tr>\n      <th>2</th>\n      <td>business</td>\n      <td>The firm, which is now one of the biggest inve...</td>\n    </tr>\n    <tr>\n      <th>3</th>\n      <td>business</td>\n      <td>Time Warner said on Friday that it now owns 8%...</td>\n    </tr>\n    <tr>\n      <th>4</th>\n      <td>business</td>\n      <td>Time Warner's fourth quarter profits were slig...</td>\n    </tr>\n    <tr>\n      <th>...</th>\n      <td>...</td>\n      <td>...</td>\n    </tr>\n    <tr>\n      <th>12888</th>\n      <td>tech</td>\n      <td>I bought the US version of World of Warcraft w...</td>\n    </tr>\n    <tr>\n      <th>12889</th>\n      <td>tech</td>\n      <td>Having played MMORPG games for some years I ag...</td>\n    </tr>\n    <tr>\n      <th>12890</th>\n      <td>tech</td>\n      <td>Unless there is undeniable medical proof that ...</td>\n    </tr>\n    <tr>\n      <th>12891</th>\n      <td>tech</td>\n      <td>These people are pathetic. They need to get of...</td>\n    </tr>\n    <tr>\n      <th>12892</th>\n      <td>tech</td>\n      <td>24hours, when i was a kid at school and i was ...</td>\n    </tr>\n  </tbody>\n</table>\n<p>12893 rows × 2 columns</p>\n</div>"
     },
     "metadata": {},
     "output_type": "display_data"
    }
   ],
   "source": [
    "import os\n",
    "import pandas as pd\n",
    "path = \"C:\\\\Users\\\\Ritik Narayan\\\\PycharmProjects\\\\scientificProject\\\\data\\\\News Articles\"\n",
    "print(os.listdir(path))\n",
    "df = pd.DataFrame()\n",
    "data = {}\n",
    "for i in os.listdir(path):\n",
    "    dir = path+\"\\\\\"+i\n",
    "    data[i] = []\n",
    "    for j in os.listdir(dir):\n",
    "        f = open(dir+\"\\\\\"+j,'r')\n",
    "        for x in f:\n",
    "            if(x=='\\n'):\n",
    "                continue\n",
    "            df2 = {'flag':i,'sentence':x}\n",
    "            df = df._append(df2,ignore_index = True)\n",
    "display(df)"
   ],
   "metadata": {
    "collapsed": false,
    "ExecuteTime": {
     "end_time": "2023-05-02T01:46:33.875937800Z",
     "start_time": "2023-05-02T01:45:58.948877100Z"
    }
   }
  },
  {
   "cell_type": "code",
   "execution_count": 11,
   "outputs": [],
   "source": [
    "from sklearn.model_selection import train_test_split\n",
    "import tensorflow as tf\n",
    "import tensorflow_hub as hub\n",
    "import tensorflow_text as text\n",
    "\n",
    "x_train,x_text,y_train,y_test = train_test_split(df['flag'],df['sentence'])"
   ],
   "metadata": {
    "collapsed": false,
    "ExecuteTime": {
     "end_time": "2023-05-02T02:01:50.824519600Z",
     "start_time": "2023-05-02T02:01:45.485423600Z"
    }
   }
  },
  {
   "cell_type": "markdown",
   "source": [],
   "metadata": {
    "collapsed": false
   }
  },
  {
   "cell_type": "code",
   "execution_count": 12,
   "outputs": [
    {
     "name": "stdout",
     "output_type": "stream",
     "text": [
      "WARNING:tensorflow:Please fix your imports. Module tensorflow.python.training.tracking.data_structures has been moved to tensorflow.python.trackable.data_structures. The old module will be deleted in version 2.11.\n"
     ]
    }
   ],
   "source": [
    "bert_preprocess = hub.KerasLayer('https://tfhub.dev/tensorflow/bert_en_uncased_preprocess/3')\n",
    "bert_encoder = hub.KerasLayer('https://tfhub.dev/tensorflow/bert_en_uncased_L-12_H-768_A-12/4')"
   ],
   "metadata": {
    "collapsed": false,
    "ExecuteTime": {
     "end_time": "2023-05-02T02:03:35.418117600Z",
     "start_time": "2023-05-02T02:01:54.535555600Z"
    }
   }
  },
  {
   "cell_type": "code",
   "execution_count": null,
   "outputs": [],
   "source": [],
   "metadata": {
    "collapsed": false
   }
  }
 ],
 "metadata": {
  "kernelspec": {
   "display_name": "Python 3",
   "language": "python",
   "name": "python3"
  },
  "language_info": {
   "codemirror_mode": {
    "name": "ipython",
    "version": 2
   },
   "file_extension": ".py",
   "mimetype": "text/x-python",
   "name": "python",
   "nbconvert_exporter": "python",
   "pygments_lexer": "ipython2",
   "version": "2.7.6"
  }
 },
 "nbformat": 4,
 "nbformat_minor": 0
}
