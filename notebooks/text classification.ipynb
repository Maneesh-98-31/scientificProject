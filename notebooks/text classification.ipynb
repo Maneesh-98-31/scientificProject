{
 "cells": [
  {
   "cell_type": "code",
   "execution_count": 9,
   "outputs": [
    {
     "name": "stdout",
     "output_type": "stream",
     "text": [
      "Requirement already satisfied: Scikit-learn in c:\\users\\ritik narayan\\.conda\\envs\\scientificproject\\lib\\site-packages (1.2.2)\n",
      "Requirement already satisfied: joblib>=1.1.1 in c:\\users\\ritik narayan\\.conda\\envs\\scientificproject\\lib\\site-packages (from Scikit-learn) (1.2.0)\n",
      "Requirement already satisfied: numpy>=1.17.3 in c:\\users\\ritik narayan\\.conda\\envs\\scientificproject\\lib\\site-packages (from Scikit-learn) (1.24.3)\n",
      "Requirement already satisfied: threadpoolctl>=2.0.0 in c:\\users\\ritik narayan\\.conda\\envs\\scientificproject\\lib\\site-packages (from Scikit-learn) (3.1.0)\n",
      "Requirement already satisfied: scipy>=1.3.2 in c:\\users\\ritik narayan\\.conda\\envs\\scientificproject\\lib\\site-packages (from Scikit-learn) (1.10.1)\n",
      "Requirement already satisfied: tensorflow in c:\\users\\ritik narayan\\.conda\\envs\\scientificproject\\lib\\site-packages (2.10.0)\n",
      "Requirement already satisfied: grpcio<2.0,>=1.24.3 in c:\\users\\ritik narayan\\.conda\\envs\\scientificproject\\lib\\site-packages (from tensorflow) (1.48.2)\n",
      "Requirement already satisfied: typing-extensions>=3.6.6 in c:\\users\\ritik narayan\\.conda\\envs\\scientificproject\\lib\\site-packages (from tensorflow) (4.5.0)\n",
      "Requirement already satisfied: opt-einsum>=2.3.2 in c:\\users\\ritik narayan\\.conda\\envs\\scientificproject\\lib\\site-packages (from tensorflow) (3.3.0)\n",
      "Requirement already satisfied: wrapt>=1.11.0 in c:\\users\\ritik narayan\\.conda\\envs\\scientificproject\\lib\\site-packages (from tensorflow) (1.14.1)\n",
      "Requirement already satisfied: tensorboard<2.11,>=2.10 in c:\\users\\ritik narayan\\.conda\\envs\\scientificproject\\lib\\site-packages (from tensorflow) (2.10.0)\n",
      "Collecting tensorflow-io-gcs-filesystem>=0.23.1\n",
      "  Downloading tensorflow_io_gcs_filesystem-0.31.0-cp310-cp310-win_amd64.whl (1.5 MB)\n",
      "     ---------------------------------------- 0.0/1.5 MB ? eta -:--:--\n",
      "     ---------------------------------------  1.5/1.5 MB 47.6 MB/s eta 0:00:01\n",
      "     ---------------------------------------- 1.5/1.5 MB 31.4 MB/s eta 0:00:00\n",
      "Requirement already satisfied: keras<2.11,>=2.10.0 in c:\\users\\ritik narayan\\.conda\\envs\\scientificproject\\lib\\site-packages (from tensorflow) (2.10.0)\n",
      "Collecting protobuf<3.20,>=3.9.2\n",
      "  Downloading protobuf-3.19.6-cp310-cp310-win_amd64.whl (895 kB)\n",
      "     ---------------------------------------- 0.0/895.7 kB ? eta -:--:--\n",
      "     ------------------------------------- 895.7/895.7 kB 59.0 MB/s eta 0:00:00\n",
      "Requirement already satisfied: six>=1.12.0 in c:\\users\\ritik narayan\\.conda\\envs\\scientificproject\\lib\\site-packages (from tensorflow) (1.16.0)\n",
      "Requirement already satisfied: numpy>=1.20 in c:\\users\\ritik narayan\\.conda\\envs\\scientificproject\\lib\\site-packages (from tensorflow) (1.24.3)\n",
      "Requirement already satisfied: setuptools in c:\\users\\ritik narayan\\.conda\\envs\\scientificproject\\lib\\site-packages (from tensorflow) (66.0.0)\n",
      "Requirement already satisfied: packaging in c:\\users\\ritik narayan\\.conda\\envs\\scientificproject\\lib\\site-packages (from tensorflow) (23.0)\n",
      "Collecting libclang>=13.0.0\n",
      "  Using cached libclang-16.0.0-py2.py3-none-win_amd64.whl (24.4 MB)\n",
      "Requirement already satisfied: tensorflow-estimator<2.11,>=2.10.0 in c:\\users\\ritik narayan\\.conda\\envs\\scientificproject\\lib\\site-packages (from tensorflow) (2.10.0)\n",
      "Requirement already satisfied: absl-py>=1.0.0 in c:\\users\\ritik narayan\\.conda\\envs\\scientificproject\\lib\\site-packages (from tensorflow) (1.3.0)\n",
      "Requirement already satisfied: termcolor>=1.1.0 in c:\\users\\ritik narayan\\.conda\\envs\\scientificproject\\lib\\site-packages (from tensorflow) (2.1.0)\n",
      "Requirement already satisfied: gast<=0.4.0,>=0.2.1 in c:\\users\\ritik narayan\\.conda\\envs\\scientificproject\\lib\\site-packages (from tensorflow) (0.4.0)\n",
      "Requirement already satisfied: keras-preprocessing>=1.1.1 in c:\\users\\ritik narayan\\.conda\\envs\\scientificproject\\lib\\site-packages (from tensorflow) (1.1.2)\n",
      "Requirement already satisfied: astunparse>=1.6.0 in c:\\users\\ritik narayan\\.conda\\envs\\scientificproject\\lib\\site-packages (from tensorflow) (1.6.3)\n",
      "Requirement already satisfied: google-pasta>=0.1.1 in c:\\users\\ritik narayan\\.conda\\envs\\scientificproject\\lib\\site-packages (from tensorflow) (0.2.0)\n",
      "Requirement already satisfied: h5py>=2.9.0 in c:\\users\\ritik narayan\\.conda\\envs\\scientificproject\\lib\\site-packages (from tensorflow) (3.7.0)\n",
      "Requirement already satisfied: flatbuffers>=2.0 in c:\\users\\ritik narayan\\.conda\\envs\\scientificproject\\lib\\site-packages (from tensorflow) (2.0)\n",
      "Requirement already satisfied: wheel<1.0,>=0.23.0 in c:\\users\\ritik narayan\\.conda\\envs\\scientificproject\\lib\\site-packages (from astunparse>=1.6.0->tensorflow) (0.38.4)\n",
      "Requirement already satisfied: requests<3,>=2.21.0 in c:\\users\\ritik narayan\\.conda\\envs\\scientificproject\\lib\\site-packages (from tensorboard<2.11,>=2.10->tensorflow) (2.29.0)\n",
      "Requirement already satisfied: markdown>=2.6.8 in c:\\users\\ritik narayan\\.conda\\envs\\scientificproject\\lib\\site-packages (from tensorboard<2.11,>=2.10->tensorflow) (3.4.1)\n",
      "Requirement already satisfied: google-auth-oauthlib<0.5,>=0.4.1 in c:\\users\\ritik narayan\\.conda\\envs\\scientificproject\\lib\\site-packages (from tensorboard<2.11,>=2.10->tensorflow) (0.4.4)\n",
      "Requirement already satisfied: werkzeug>=1.0.1 in c:\\users\\ritik narayan\\.conda\\envs\\scientificproject\\lib\\site-packages (from tensorboard<2.11,>=2.10->tensorflow) (2.2.3)\n",
      "Requirement already satisfied: tensorboard-plugin-wit>=1.6.0 in c:\\users\\ritik narayan\\.conda\\envs\\scientificproject\\lib\\site-packages (from tensorboard<2.11,>=2.10->tensorflow) (1.8.1)\n",
      "Requirement already satisfied: tensorboard-data-server<0.7.0,>=0.6.0 in c:\\users\\ritik narayan\\.conda\\envs\\scientificproject\\lib\\site-packages (from tensorboard<2.11,>=2.10->tensorflow) (0.6.1)\n",
      "Requirement already satisfied: google-auth<3,>=1.6.3 in c:\\users\\ritik narayan\\.conda\\envs\\scientificproject\\lib\\site-packages (from tensorboard<2.11,>=2.10->tensorflow) (2.6.0)\n",
      "Requirement already satisfied: cachetools<6.0,>=2.0.0 in c:\\users\\ritik narayan\\.conda\\envs\\scientificproject\\lib\\site-packages (from google-auth<3,>=1.6.3->tensorboard<2.11,>=2.10->tensorflow) (4.2.2)\n",
      "Requirement already satisfied: rsa<5,>=3.1.4 in c:\\users\\ritik narayan\\.conda\\envs\\scientificproject\\lib\\site-packages (from google-auth<3,>=1.6.3->tensorboard<2.11,>=2.10->tensorflow) (4.7.2)\n",
      "Requirement already satisfied: pyasn1-modules>=0.2.1 in c:\\users\\ritik narayan\\.conda\\envs\\scientificproject\\lib\\site-packages (from google-auth<3,>=1.6.3->tensorboard<2.11,>=2.10->tensorflow) (0.2.8)\n",
      "Requirement already satisfied: requests-oauthlib>=0.7.0 in c:\\users\\ritik narayan\\.conda\\envs\\scientificproject\\lib\\site-packages (from google-auth-oauthlib<0.5,>=0.4.1->tensorboard<2.11,>=2.10->tensorflow) (1.3.0)\n",
      "Requirement already satisfied: charset-normalizer<4,>=2 in c:\\users\\ritik narayan\\.conda\\envs\\scientificproject\\lib\\site-packages (from requests<3,>=2.21.0->tensorboard<2.11,>=2.10->tensorflow) (2.0.4)\n",
      "Requirement already satisfied: idna<4,>=2.5 in c:\\users\\ritik narayan\\.conda\\envs\\scientificproject\\lib\\site-packages (from requests<3,>=2.21.0->tensorboard<2.11,>=2.10->tensorflow) (3.4)\n",
      "Requirement already satisfied: certifi>=2017.4.17 in c:\\users\\ritik narayan\\.conda\\envs\\scientificproject\\lib\\site-packages (from requests<3,>=2.21.0->tensorboard<2.11,>=2.10->tensorflow) (2022.12.7)\n",
      "Requirement already satisfied: urllib3<1.27,>=1.21.1 in c:\\users\\ritik narayan\\.conda\\envs\\scientificproject\\lib\\site-packages (from requests<3,>=2.21.0->tensorboard<2.11,>=2.10->tensorflow) (1.26.15)\n",
      "Requirement already satisfied: MarkupSafe>=2.1.1 in c:\\users\\ritik narayan\\.conda\\envs\\scientificproject\\lib\\site-packages (from werkzeug>=1.0.1->tensorboard<2.11,>=2.10->tensorflow) (2.1.1)\n",
      "Requirement already satisfied: pyasn1<0.5.0,>=0.4.6 in c:\\users\\ritik narayan\\.conda\\envs\\scientificproject\\lib\\site-packages (from pyasn1-modules>=0.2.1->google-auth<3,>=1.6.3->tensorboard<2.11,>=2.10->tensorflow) (0.4.8)\n",
      "Requirement already satisfied: oauthlib>=3.0.0 in c:\\users\\ritik narayan\\.conda\\envs\\scientificproject\\lib\\site-packages (from requests-oauthlib>=0.7.0->google-auth-oauthlib<0.5,>=0.4.1->tensorboard<2.11,>=2.10->tensorflow) (3.2.2)\n",
      "Installing collected packages: libclang, tensorflow-io-gcs-filesystem, protobuf\n",
      "  Attempting uninstall: protobuf\n",
      "    Found existing installation: protobuf 3.20.3\n",
      "    Uninstalling protobuf-3.20.3:\n",
      "      Successfully uninstalled protobuf-3.20.3\n",
      "Successfully installed libclang-16.0.0 protobuf-3.19.6 tensorflow-io-gcs-filesystem-0.31.0\n"
     ]
    }
   ],
   "source": [
    "!pip install Scikit-learn\n",
    "!pip install tensorflow\n",
    "!pip install tensorflow-hub\n",
    "!pip install tensorflow-text"
   ],
   "metadata": {
    "collapsed": false,
    "ExecuteTime": {
     "end_time": "2023-05-02T01:57:46.186629100Z",
     "start_time": "2023-05-02T01:57:32.032134600Z"
    }
   }
  },
  {
   "cell_type": "code",
   "execution_count": 8,
   "outputs": [
    {
     "name": "stdout",
     "output_type": "stream",
     "text": [
      "['business', 'entertainment', 'politics', 'sport', 'tech']\n"
     ]
    },
    {
     "data": {
      "text/plain": "           flag                                           sentence\n0      business                Ad sales boost Time Warner profit\\n\n1      business  Quarterly profits at US media giant TimeWarner...\n2      business  The firm, which is now one of the biggest inve...\n3      business  Time Warner said on Friday that it now owns 8%...\n4      business  Time Warner's fourth quarter profits were slig...\n...         ...                                                ...\n12888      tech  I bought the US version of World of Warcraft w...\n12889      tech  Having played MMORPG games for some years I ag...\n12890      tech  Unless there is undeniable medical proof that ...\n12891      tech  These people are pathetic. They need to get of...\n12892      tech  24hours, when i was a kid at school and i was ...\n\n[12893 rows x 2 columns]",
      "text/html": "<div>\n<style scoped>\n    .dataframe tbody tr th:only-of-type {\n        vertical-align: middle;\n    }\n\n    .dataframe tbody tr th {\n        vertical-align: top;\n    }\n\n    .dataframe thead th {\n        text-align: right;\n    }\n</style>\n<table border=\"1\" class=\"dataframe\">\n  <thead>\n    <tr style=\"text-align: right;\">\n      <th></th>\n      <th>flag</th>\n      <th>sentence</th>\n    </tr>\n  </thead>\n  <tbody>\n    <tr>\n      <th>0</th>\n      <td>business</td>\n      <td>Ad sales boost Time Warner profit\\n</td>\n    </tr>\n    <tr>\n      <th>1</th>\n      <td>business</td>\n      <td>Quarterly profits at US media giant TimeWarner...</td>\n    </tr>\n    <tr>\n      <th>2</th>\n      <td>business</td>\n      <td>The firm, which is now one of the biggest inve...</td>\n    </tr>\n    <tr>\n      <th>3</th>\n      <td>business</td>\n      <td>Time Warner said on Friday that it now owns 8%...</td>\n    </tr>\n    <tr>\n      <th>4</th>\n      <td>business</td>\n      <td>Time Warner's fourth quarter profits were slig...</td>\n    </tr>\n    <tr>\n      <th>...</th>\n      <td>...</td>\n      <td>...</td>\n    </tr>\n    <tr>\n      <th>12888</th>\n      <td>tech</td>\n      <td>I bought the US version of World of Warcraft w...</td>\n    </tr>\n    <tr>\n      <th>12889</th>\n      <td>tech</td>\n      <td>Having played MMORPG games for some years I ag...</td>\n    </tr>\n    <tr>\n      <th>12890</th>\n      <td>tech</td>\n      <td>Unless there is undeniable medical proof that ...</td>\n    </tr>\n    <tr>\n      <th>12891</th>\n      <td>tech</td>\n      <td>These people are pathetic. They need to get of...</td>\n    </tr>\n    <tr>\n      <th>12892</th>\n      <td>tech</td>\n      <td>24hours, when i was a kid at school and i was ...</td>\n    </tr>\n  </tbody>\n</table>\n<p>12893 rows × 2 columns</p>\n</div>"
     },
     "metadata": {},
     "output_type": "display_data"
    }
   ],
   "source": [
    "import os\n",
    "import pandas as pd\n",
    "path = \"C:\\\\Users\\\\Ritik Narayan\\\\PycharmProjects\\\\scientificProject\\\\data\\\\News Articles\"\n",
    "print(os.listdir(path))\n",
    "df = pd.DataFrame()\n",
    "data = {}\n",
    "for i in os.listdir(path):\n",
    "    dir = path+\"\\\\\"+i\n",
    "    data[i] = []\n",
    "    for j in os.listdir(dir):\n",
    "        f = open(dir+\"\\\\\"+j,'r')\n",
    "        for x in f:\n",
    "            if(x=='\\n'):\n",
    "                continue\n",
    "            df2 = {'flag':i,'sentence':x}\n",
    "            df = df._append(df2,ignore_index = True)\n",
    "display(df)"
   ],
   "metadata": {
    "collapsed": false,
    "ExecuteTime": {
     "end_time": "2023-05-02T01:46:33.875937800Z",
     "start_time": "2023-05-02T01:45:58.948877100Z"
    }
   }
  },
  {
   "cell_type": "code",
   "execution_count": 11,
   "outputs": [],
   "source": [
    "from sklearn.model_selection import train_test_split\n",
    "import tensorflow as tf\n",
    "import tensorflow_hub as hub\n",
    "import tensorflow_text as text\n",
    "\n",
    "x_train,x_text,y_train,y_test = train_test_split(df['flag'],df['sentence'])"
   ],
   "metadata": {
    "collapsed": false,
    "ExecuteTime": {
     "end_time": "2023-05-02T02:01:50.824519600Z",
     "start_time": "2023-05-02T02:01:45.485423600Z"
    }
   }
  },
  {
   "cell_type": "markdown",
   "source": [],
   "metadata": {
    "collapsed": false
   }
  },
  {
   "cell_type": "code",
   "execution_count": 12,
   "outputs": [
    {
     "name": "stdout",
     "output_type": "stream",
     "text": [
      "WARNING:tensorflow:Please fix your imports. Module tensorflow.python.training.tracking.data_structures has been moved to tensorflow.python.trackable.data_structures. The old module will be deleted in version 2.11.\n"
     ]
    }
   ],
   "source": [
    "bert_preprocess = hub.KerasLayer('https://tfhub.dev/tensorflow/bert_en_uncased_preprocess/3')\n",
    "bert_encoder = hub.KerasLayer('https://tfhub.dev/tensorflow/bert_en_uncased_L-12_H-768_A-12/4')"
   ],
   "metadata": {
    "collapsed": false,
    "ExecuteTime": {
     "end_time": "2023-05-02T02:03:35.418117600Z",
     "start_time": "2023-05-02T02:01:54.535555600Z"
    }
   }
  },
  {
   "cell_type": "code",
   "execution_count": 19,
   "outputs": [],
   "source": [
    "def get_sentence_embeding(sentences):\n",
    "    preprocessed_text = bert_preprocess(sentences)\n",
    "    return bert_encoder(preprocessed_text)['pooled_output']"
   ],
   "metadata": {
    "collapsed": false,
    "ExecuteTime": {
     "end_time": "2023-05-02T02:30:27.381457500Z",
     "start_time": "2023-05-02T02:30:27.363403Z"
    }
   }
  },
  {
   "cell_type": "code",
   "execution_count": 20,
   "outputs": [
    {
     "data": {
      "text/plain": "<tf.Tensor: shape=(1, 768), dtype=float32, numpy=\narray([[-0.91175604, -0.42765927, -0.33169073,  0.6823283 , -0.03602511,\n        -0.21450444,  0.88695306,  0.23906001, -0.09807711, -0.99998164,\n        -0.15812424,  0.7456627 ,  0.9893159 , -0.04462776,  0.9318384 ,\n        -0.58364236, -0.49021533, -0.5071977 ,  0.35413197, -0.6671111 ,\n         0.7342355 ,  0.9990118 ,  0.36198246,  0.255243  ,  0.3830788 ,\n         0.89711285, -0.7257184 ,  0.9437705 ,  0.96025676,  0.83369064,\n        -0.6284749 ,  0.32713285, -0.9896689 , -0.19439697, -0.3947421 ,\n        -0.9925123 ,  0.29280493, -0.8401958 , -0.00429774, -0.01581867,\n        -0.9200645 ,  0.33485016,  0.99983007,  0.15666597,  0.31401244,\n        -0.35717252, -0.99999946,  0.11929301, -0.9146113 ,  0.47653022,\n         0.14520624,  0.19388427,  0.22513205,  0.49807027,  0.47622353,\n         0.06719323, -0.04616265,  0.18002562, -0.23817913, -0.53517276,\n        -0.5370193 ,  0.35397434, -0.5833443 , -0.90848136,  0.34974644,\n        -0.04887762, -0.1629706 , -0.28965333, -0.2058155 ,  0.04317643,\n         0.8713686 ,  0.17534405,  0.13932462, -0.82710004, -0.05170697,\n         0.17895584, -0.5513218 ,  1.        , -0.55848914, -0.98237544,\n         0.26196867,  0.03278121,  0.42555314,  0.41346878, -0.33436525,\n        -1.        ,  0.39209867, -0.19476335, -0.9937801 ,  0.12191224,\n         0.59906715, -0.20562637, -0.27244702,  0.50469273, -0.10424879,\n        -0.303744  , -0.30367994, -0.37694877, -0.34015906, -0.42481577,\n         0.08191786, -0.25158656, -0.0869626 , -0.34367767,  0.2501978 ,\n        -0.39056918, -0.62212896,  0.28038126, -0.12767714,  0.7379663 ,\n         0.34231493, -0.23309003,  0.3913289 , -0.9649271 ,  0.75664836,\n        -0.26184487, -0.9891839 , -0.49094844, -0.993797  ,  0.75353944,\n        -0.2846086 , -0.19121285,  0.961077  ,  0.13909778,  0.24351528,\n        -0.0308027 , -0.35349524, -1.        , -0.44634333, -0.20884867,\n         0.16080779, -0.11284046, -0.98558474, -0.9575954 ,  0.5897222 ,\n         0.95402765,  0.14610426,  0.99952066, -0.2507999 ,  0.9527041 ,\n         0.10119748, -0.24790844,  0.05582463, -0.39795414,  0.52032286,\n         0.32732317, -0.8108273 ,  0.30764526, -0.08652718,  0.00430797,\n        -0.49658394, -0.30936036, -0.00621923, -0.9257403 , -0.30556634,\n         0.9461862 ,  0.10587906, -0.324885  ,  0.56849986, -0.29487944,\n        -0.44784415,  0.9006593 ,  0.39807627,  0.392272  , -0.07074742,\n         0.42906296, -0.08852664,  0.5419523 , -0.9006165 ,  0.03862249,\n         0.39807186, -0.22747573, -0.16382162, -0.9832734 , -0.504497  ,\n         0.46994552,  0.9872592 ,  0.7977716 ,  0.2540998 ,  0.3529013 ,\n        -0.23020604,  0.4704209 , -0.9747271 ,  0.9856063 , -0.17527486,\n         0.3341629 ,  0.13875166,  0.16487125, -0.88376844, -0.4904582 ,\n         0.9062427 , -0.27905673, -0.81910866,  0.03014401, -0.43757126,\n        -0.4127376 , -0.0783627 ,  0.76197577, -0.30521706, -0.26249608,\n        -0.10434502,  0.9269249 ,  0.97072005,  0.79796463, -0.25396693,\n         0.7388078 , -0.9373271 , -0.42636523,  0.25254172,  0.2306655 ,\n         0.11141974,  0.9951043 , -0.07935152, -0.18929821, -0.91008145,\n        -0.9887613 ,  0.0948344 , -0.8567394 , -0.14627485, -0.73122746,\n         0.42061242,  0.40643868, -0.0795899 ,  0.3381525 , -0.98024267,\n        -0.8073119 ,  0.4153638 , -0.41775987,  0.4422313 , -0.24323764,\n         0.31401816,  0.62304765, -0.61842906,  0.80182636,  0.89221925,\n         0.05784884, -0.77766794,  0.776708  , -0.41210976,  0.9161522 ,\n        -0.6231473 ,  0.9932598 ,  0.6095012 ,  0.63937324, -0.9611649 ,\n        -0.13415487, -0.9385571 , -0.0694833 , -0.03095544, -0.51990527,\n         0.37253278,  0.50934476,  0.32847944,  0.7016128 , -0.5993644 ,\n         0.9972741 , -0.1941495 , -0.9742393 , -0.03262993, -0.18364598,\n        -0.99204415,  0.5607495 ,  0.22474569, -0.31322822, -0.46638572,\n        -0.5851987 , -0.9715406 ,  0.88662803,  0.10455357,  0.9847768 ,\n        -0.10208741, -0.92966866, -0.6053815 , -0.9445108 ,  0.01883195,\n        -0.23867862,  0.44517678, -0.0222306 , -0.93943346,  0.4471107 ,\n         0.54311144,  0.40155545, -0.24172561,  0.9986322 ,  0.99999344,\n         0.97204673,  0.87163293,  0.8874865 , -0.9956416 , -0.19898906,\n         0.9999893 , -0.9431095 , -0.99999994, -0.9285819 , -0.6256246 ,\n         0.52787673, -1.        , -0.05323764, -0.07744931, -0.93111426,\n         0.0689528 ,  0.9861052 ,  0.9934633 , -1.        ,  0.89874786,\n         0.94096214, -0.6086411 ,  0.7691906 , -0.1201747 ,  0.97964483,\n         0.2838012 ,  0.41735068, -0.18824236,  0.40926874, -0.35605335,\n        -0.89292043, -0.03580062, -0.05005638,  0.9612269 ,  0.2792745 ,\n        -0.7769621 , -0.94931316, -0.03313934, -0.30964315, -0.21046387,\n        -0.953414  , -0.17926525,  0.10971051,  0.6114274 ,  0.14012657,\n         0.10064784, -0.7092836 ,  0.28203228, -0.48106414,  0.4522895 ,\n         0.619149  , -0.9214272 , -0.73682386, -0.50726515, -0.2161193 ,\n         0.04856613, -0.9479303 ,  0.9625987 , -0.37469319,  0.4253719 ,\n         1.        ,  0.12477291, -0.88757825,  0.2998339 ,  0.18693346,\n        -0.03221296,  1.        ,  0.60640746, -0.9892991 , -0.5164594 ,\n         0.38145602, -0.5191443 , -0.41750315,  0.99939775, -0.26686788,\n        -0.20464495,  0.2057651 ,  0.9850577 , -0.99542433,  0.8280155 ,\n        -0.91018313, -0.96715456,  0.96285874,  0.936096  , -0.41361576,\n        -0.7270268 ,  0.2379702 , -0.11395451,  0.29318744, -0.9576922 ,\n         0.77174604,  0.5340158 , -0.13851894,  0.8792139 , -0.9128222 ,\n        -0.440283  ,  0.47189254, -0.4408279 ,  0.02237909,  0.39218864,\n         0.5361791 , -0.29353374,  0.17105192, -0.25816032,  0.01453477,\n        -0.96198225, -0.02278477,  1.        , -0.23410968,  0.0404476 ,\n        -0.31305316, -0.0401298 , -0.18004392,  0.4306568 ,  0.48184168,\n        -0.2757009 , -0.7950156 ,  0.10091323, -0.8772723 , -0.99176806,\n         0.74691534,  0.17949082, -0.29139203,  0.9999693 ,  0.35733685,\n         0.27596444,  0.09051092,  0.91883755, -0.02905906,  0.5117908 ,\n         0.1292153 ,  0.97879463, -0.3069629 ,  0.46853787,  0.8772531 ,\n        -0.34918603, -0.3161014 , -0.6246925 ,  0.02573084, -0.9269774 ,\n        -0.05082094, -0.9672924 ,  0.9601198 ,  0.70162636,  0.3639072 ,\n         0.2376505 ,  0.10182079,  1.        ,  0.01836881,  0.6392599 ,\n        -0.72658706,  0.8042307 , -0.9871816 , -0.6353064 , -0.34860152,\n        -0.01446386,  0.0259452 , -0.281078  ,  0.2197893 , -0.97997844,\n         0.1508081 ,  0.25278488, -0.9570976 , -0.99185705,  0.23679824,\n         0.7706583 ,  0.04846877, -0.9052853 , -0.6884904 , -0.5302419 ,\n         0.1998155 , -0.25410482, -0.94866186,  0.4390695 , -0.2041091 ,\n         0.5605833 , -0.26325282,  0.52376693, -0.07884706,  0.8279344 ,\n        -0.19353169, -0.13874687, -0.09935704, -0.8918137 ,  0.8005678 ,\n        -0.81617033, -0.05249487, -0.03075079,  1.        , -0.24298042,\n         0.3753172 ,  0.65798104,  0.76819354, -0.29354966,  0.17712079,\n         0.5482017 ,  0.12552063, -0.1294162 , -0.28576666, -0.846719  ,\n        -0.40286225,  0.6092762 ,  0.00110976, -0.29669836,  0.8408377 ,\n         0.36717668,  0.373625  , -0.09347129,  0.04239585,  0.9994309 ,\n        -0.21777561, -0.222414  , -0.6432623 , -0.06590513, -0.32819673,\n        -0.68774426,  1.        ,  0.31904465,  0.21430337, -0.9950974 ,\n        -0.27024043, -0.9502278 ,  0.99997586,  0.888286  , -0.8481335 ,\n         0.5656911 ,  0.4728615 , -0.167667  ,  0.77097183, -0.20828879,\n        -0.31509396,  0.3319392 ,  0.16152151,  0.96953887, -0.51544267,\n        -0.9790895 , -0.574203  ,  0.27785337, -0.93349147,  0.99398506,\n        -0.594931  , -0.19830585, -0.2663277 , -0.09030137,  0.88393146,\n         0.08936746, -0.9782985 , -0.2257069 ,  0.1937134 ,  0.9833699 ,\n         0.16217397, -0.5325676 , -0.9595467 ,  0.3231456 ,  0.4100297 ,\n        -0.21860214, -0.92295223,  0.98383653, -0.9707553 ,  0.4707563 ,\n         0.99999994,  0.4208181 , -0.15546563,  0.28969842, -0.57897973,\n         0.33798572, -0.24721745,  0.689523  , -0.94212914, -0.31094858,\n        -0.2428963 ,  0.4318976 , -0.23523353,  0.05470885,  0.73937714,\n         0.23800536, -0.47136715, -0.6036147 ,  0.0167067 ,  0.48234785,\n         0.825957  , -0.30114976, -0.12437955,  0.10594214, -0.18769619,\n        -0.95297563, -0.24673055, -0.2442016 , -0.9995808 ,  0.7247567 ,\n        -1.        ,  0.01986651, -0.39950994, -0.16469856,  0.808822  ,\n         0.25965777,  0.06835049, -0.8028558 , -0.19739544,  0.6234728 ,\n         0.8151287 , -0.3232673 , -0.11339685, -0.71823835,  0.20740731,\n        -0.08808576,  0.29976434, -0.12740816,  0.67762405, -0.24084777,\n         1.        ,  0.17750642, -0.44527584, -0.96240616,  0.23664244,\n        -0.22598672,  0.9999979 , -0.9196809 , -0.9754415 ,  0.3605416 ,\n        -0.69289535, -0.7379883 ,  0.33931336, -0.00756244, -0.77753043,\n        -0.7798003 ,  0.92525494,  0.9100687 , -0.5345383 ,  0.45032802,\n        -0.33748025, -0.61206794,  0.06561114,  0.37044427,  0.9913298 ,\n         0.48040164,  0.9294395 ,  0.29987505,  0.03805583,  0.9590127 ,\n         0.26442713,  0.7001661 ,  0.16106384,  1.        ,  0.29116926,\n        -0.9455332 ,  0.2293403 , -0.97791594, -0.23945956, -0.9664256 ,\n         0.3503218 ,  0.13270904,  0.90164816, -0.3605065 ,  0.97277856,\n        -0.312136  ,  0.21332511, -0.28139502,  0.4169896 ,  0.36353996,\n        -0.9427693 , -0.9897582 , -0.99071455,  0.44333214, -0.47731587,\n        -0.00297189,  0.32945192,  0.3473518 ,  0.41212726,  0.38097274,\n        -0.99999994,  0.9508003 ,  0.37029833,  0.22065601,  0.9767636 ,\n         0.30679363,  0.42460376,  0.25326994, -0.9926829 , -0.96053606,\n        -0.38103592, -0.33420262,  0.8487859 ,  0.6969368 ,  0.8277749 ,\n         0.5597446 , -0.38405496, -0.21357566,  0.24362792, -0.20764327,\n        -0.99563867,  0.4678167 , -0.06665125, -0.968386  ,  0.95990086,\n        -0.23226716, -0.16058035,  0.47541705, -0.42611504,  0.9714096 ,\n         0.80646974,  0.65045506,  0.00982138,  0.69977355,  0.9302172 ,\n         0.9625927 ,  0.99105877, -0.3021648 ,  0.7935574 ,  0.0455207 ,\n         0.42956728,  0.3868255 , -0.9495047 , -0.0046027 ,  0.09099995,\n        -0.32316864,  0.4011612 , -0.28839466, -0.964912  ,  0.45582455,\n        -0.1327909 ,  0.6775111 , -0.35259518,  0.02945733, -0.46582252,\n        -0.16660658, -0.7100124 , -0.68707544,  0.5968397 ,  0.344981  ,\n         0.94930476,  0.1671894 , -0.09709992, -0.70538336, -0.22497949,\n         0.09503298, -0.93804497,  0.9521076 , -0.20806296,  0.41186264,\n         0.08990102,  0.04598245,  0.45936185, -0.14885794, -0.39907482,\n        -0.4257141 , -0.77338856,  0.8140045 , -0.18788135, -0.48148274,\n        -0.6424304 ,  0.68729335,  0.27167863,  0.9994042 , -0.1786707 ,\n        -0.40572563, -0.41718814, -0.32249475,  0.1456763 , -0.41497058,\n        -0.99999994,  0.3526893 , -0.08676852,  0.24404958, -0.26384267,\n         0.3164937 , -0.33395547, -0.9748954 , -0.22579405,  0.30408037,\n         0.16507657, -0.59997237, -0.7355507 ,  0.52990997, -0.09578554,\n         0.6916432 ,  0.92606074, -0.16351661,  0.51560557,  0.56229526,\n         0.01233835, -0.59180033,  0.89924663]], dtype=float32)>"
     },
     "execution_count": 20,
     "metadata": {},
     "output_type": "execute_result"
    }
   ],
   "source": [
    "get_sentence_embeding([df.loc[0].at['sentence']])"
   ],
   "metadata": {
    "collapsed": false,
    "ExecuteTime": {
     "end_time": "2023-05-02T02:30:29.084250800Z",
     "start_time": "2023-05-02T02:30:28.569653500Z"
    }
   }
  },
  {
   "cell_type": "code",
   "execution_count": null,
   "outputs": [],
   "source": [],
   "metadata": {
    "collapsed": false
   }
  }
 ],
 "metadata": {
  "kernelspec": {
   "display_name": "Python 3",
   "language": "python",
   "name": "python3"
  },
  "language_info": {
   "codemirror_mode": {
    "name": "ipython",
    "version": 2
   },
   "file_extension": ".py",
   "mimetype": "text/x-python",
   "name": "python",
   "nbconvert_exporter": "python",
   "pygments_lexer": "ipython2",
   "version": "2.7.6"
  }
 },
 "nbformat": 4,
 "nbformat_minor": 0
}
